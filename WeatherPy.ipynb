{
 "cells": [
  {
   "cell_type": "markdown",
   "metadata": {},
   "source": [
    "# WeatherPy\n",
    "----\n",
    "\n",
    "### Analysis\n",
    "* As expected, the weather becomes significantly warmer as one approaches the equator (0 Deg. Latitude). More interestingly, however, is the fact that the southern hemisphere tends to be warmer this time of year than the northern hemisphere. This may be due to the tilt of the earth.\n",
    "* There is no strong relationship between latitude and cloudiness. However, it is interesting to see that a strong band of cities sits at 0, 80, and 100% cloudiness.\n",
    "* There is no strong relationship between latitude and wind speed. However, in northern hemispheres there is a flurry of cities with over 20 mph of wind.\n",
    "\n",
    "---\n",
    "\n",
    "#### Note\n",
    "* Instructions have been included for each segment. You do not have to follow them exactly, but they are included to help you think through the steps."
   ]
  },
  {
   "cell_type": "code",
   "execution_count": 1,
   "metadata": {
    "scrolled": true
   },
   "outputs": [],
   "source": [
    "# Dependencies and Setup\n",
    "import matplotlib.pyplot as plt\n",
    "import pandas as pd\n",
    "import numpy as np\n",
    "import requests\n",
    "import time\n",
    "import openweathermapy.core as owm\n",
    "\n",
    "# Import API key\n",
    "import api_keys\n",
    "\n",
    "# Incorporated citipy to determine city based on latitude and longitude\n",
    "from citipy import citipy\n",
    "\n",
    "# Output File (CSV)\n",
    "output_data_file = \"output_data/cities.csv\"\n",
    "\n",
    "# Range of latitudes and longitudes\n",
    "lat_range = (-90, 90)\n",
    "lng_range = (-180, 180)"
   ]
  },
  {
   "cell_type": "markdown",
   "metadata": {},
   "source": [
    "## Generate Cities List"
   ]
  },
  {
   "cell_type": "code",
   "execution_count": 2,
   "metadata": {},
   "outputs": [
    {
     "data": {
      "text/plain": [
       "607"
      ]
     },
     "execution_count": 2,
     "metadata": {},
     "output_type": "execute_result"
    }
   ],
   "source": [
    "# List for holding lat_lngs and cities\n",
    "lat_lngs = []\n",
    "cities = []\n",
    "\n",
    "# Create a set of random lat and lng combinations\n",
    "lats = np.random.uniform(low=-90.000, high=90.000, size=1500)\n",
    "lngs = np.random.uniform(low=-180.000, high=180.000, size=1500)\n",
    "lat_lngs = zip(lats, lngs)\n",
    "\n",
    "# Identify nearest city for each lat, lng combination\n",
    "for lat_lng in lat_lngs:\n",
    "    city = citipy.nearest_city(lat_lng[0], lat_lng[1]).city_name\n",
    "    \n",
    "    # If the city is unique, then add it to a our cities list\n",
    "    if city not in cities:\n",
    "        cities.append(city)\n",
    "\n",
    "# Print the city count to confirm sufficient count\n",
    "len(cities)"
   ]
  },
  {
   "cell_type": "code",
   "execution_count": 3,
   "metadata": {},
   "outputs": [],
   "source": [
    "# Create settings dictionary with information we're interested in\n",
    "\n",
    "settings = {\"units\": \"imperial\", \"appid\": api_keys}\n",
    "\n",
    "#dataframe to store API calls\n",
    "\n",
    "WeatherPy_df =pd.DataFrame(columns = [\"City\",\"Cloudiness\", \"Country\",\"Date\", \"Max Temp\", \"Wind Speed\", \n",
    "                                        \"Lat\",\"Lng\", \"Humidity\"\n",
    "                                     ]\n",
    "                          )"
   ]
  },
  {
   "cell_type": "markdown",
   "metadata": {},
   "source": [
    "### Perform API Calls\n",
    "* Perform a weather check on each city using a series of successive API calls.\n",
    "* Include a print log of each city as it'sbeing processed (with the city number and city name).\n"
   ]
  },
  {
   "cell_type": "code",
   "execution_count": null,
   "metadata": {},
   "outputs": [
    {
     "name": "stdout",
     "output_type": "stream",
     "text": [
      "Beginning Data Retrieval \n",
      " ........................\n",
      "Processing Record 1 of Set 0 | ushuaia\n",
      "http://api.openweathermap.org/data/2.5/weather?q=ushuaia&units=imperial&APPID=<module 'api_keys' from 'C:\\\\Users\\\\ebjoy\\\\Desktop\\\\Homework06---Python-APIs\\\\api_keys.py'>\n",
      "HTTP Error 401: Unauthorized\n",
      "Processing Record 2 of Set 0 | dikson\n",
      "http://api.openweathermap.org/data/2.5/weather?q=dikson&units=imperial&APPID=<module 'api_keys' from 'C:\\\\Users\\\\ebjoy\\\\Desktop\\\\Homework06---Python-APIs\\\\api_keys.py'>\n",
      "HTTP Error 401: Unauthorized\n",
      "Processing Record 3 of Set 0 | faanui\n",
      "http://api.openweathermap.org/data/2.5/weather?q=faanui&units=imperial&APPID=<module 'api_keys' from 'C:\\\\Users\\\\ebjoy\\\\Desktop\\\\Homework06---Python-APIs\\\\api_keys.py'>\n",
      "HTTP Error 401: Unauthorized\n",
      "Processing Record 4 of Set 0 | bontang\n",
      "http://api.openweathermap.org/data/2.5/weather?q=bontang&units=imperial&APPID=<module 'api_keys' from 'C:\\\\Users\\\\ebjoy\\\\Desktop\\\\Homework06---Python-APIs\\\\api_keys.py'>\n",
      "HTTP Error 401: Unauthorized\n",
      "Processing Record 5 of Set 0 | kavieng\n",
      "http://api.openweathermap.org/data/2.5/weather?q=kavieng&units=imperial&APPID=<module 'api_keys' from 'C:\\\\Users\\\\ebjoy\\\\Desktop\\\\Homework06---Python-APIs\\\\api_keys.py'>\n",
      "HTTP Error 401: Unauthorized\n",
      "Processing Record 6 of Set 0 | nioki\n",
      "http://api.openweathermap.org/data/2.5/weather?q=nioki&units=imperial&APPID=<module 'api_keys' from 'C:\\\\Users\\\\ebjoy\\\\Desktop\\\\Homework06---Python-APIs\\\\api_keys.py'>\n",
      "HTTP Error 401: Unauthorized\n",
      "Processing Record 7 of Set 0 | atuona\n",
      "http://api.openweathermap.org/data/2.5/weather?q=atuona&units=imperial&APPID=<module 'api_keys' from 'C:\\\\Users\\\\ebjoy\\\\Desktop\\\\Homework06---Python-APIs\\\\api_keys.py'>\n",
      "HTTP Error 401: Unauthorized\n",
      "Processing Record 8 of Set 0 | lasa\n",
      "http://api.openweathermap.org/data/2.5/weather?q=lasa&units=imperial&APPID=<module 'api_keys' from 'C:\\\\Users\\\\ebjoy\\\\Desktop\\\\Homework06---Python-APIs\\\\api_keys.py'>\n",
      "HTTP Error 401: Unauthorized\n",
      "Processing Record 9 of Set 0 | saleaula\n",
      "http://api.openweathermap.org/data/2.5/weather?q=saleaula&units=imperial&APPID=<module 'api_keys' from 'C:\\\\Users\\\\ebjoy\\\\Desktop\\\\Homework06---Python-APIs\\\\api_keys.py'>\n",
      "HTTP Error 401: Unauthorized\n",
      "Processing Record 10 of Set 0 | san carlos de bariloche\n",
      "http://api.openweathermap.org/data/2.5/weather?q=san%20carlos%20de%20bariloche&units=imperial&APPID=<module 'api_keys' from 'C:\\\\Users\\\\ebjoy\\\\Desktop\\\\Homework06---Python-APIs\\\\api_keys.py'>\n",
      "HTTP Error 401: Unauthorized\n",
      "Processing Record 11 of Set 0 | bambous virieux\n",
      "http://api.openweathermap.org/data/2.5/weather?q=bambous%20virieux&units=imperial&APPID=<module 'api_keys' from 'C:\\\\Users\\\\ebjoy\\\\Desktop\\\\Homework06---Python-APIs\\\\api_keys.py'>\n",
      "HTTP Error 401: Unauthorized\n",
      "Processing Record 12 of Set 0 | cape town\n",
      "http://api.openweathermap.org/data/2.5/weather?q=cape%20town&units=imperial&APPID=<module 'api_keys' from 'C:\\\\Users\\\\ebjoy\\\\Desktop\\\\Homework06---Python-APIs\\\\api_keys.py'>\n",
      "HTTP Error 401: Unauthorized\n",
      "Processing Record 13 of Set 0 | warwick\n",
      "http://api.openweathermap.org/data/2.5/weather?q=warwick&units=imperial&APPID=<module 'api_keys' from 'C:\\\\Users\\\\ebjoy\\\\Desktop\\\\Homework06---Python-APIs\\\\api_keys.py'>\n",
      "HTTP Error 401: Unauthorized\n",
      "Processing Record 14 of Set 0 | bolshegrivskoye\n",
      "http://api.openweathermap.org/data/2.5/weather?q=bolshegrivskoye&units=imperial&APPID=<module 'api_keys' from 'C:\\\\Users\\\\ebjoy\\\\Desktop\\\\Homework06---Python-APIs\\\\api_keys.py'>\n",
      "HTTP Error 401: Unauthorized\n",
      "Processing Record 15 of Set 0 | dolbeau\n",
      "http://api.openweathermap.org/data/2.5/weather?q=dolbeau&units=imperial&APPID=<module 'api_keys' from 'C:\\\\Users\\\\ebjoy\\\\Desktop\\\\Homework06---Python-APIs\\\\api_keys.py'>\n",
      "HTTP Error 401: Unauthorized\n",
      "Processing Record 16 of Set 0 | grindavik\n",
      "http://api.openweathermap.org/data/2.5/weather?q=grindavik&units=imperial&APPID=<module 'api_keys' from 'C:\\\\Users\\\\ebjoy\\\\Desktop\\\\Homework06---Python-APIs\\\\api_keys.py'>\n",
      "HTTP Error 401: Unauthorized\n",
      "Processing Record 17 of Set 0 | belushya guba\n",
      "http://api.openweathermap.org/data/2.5/weather?q=belushya%20guba&units=imperial&APPID=<module 'api_keys' from 'C:\\\\Users\\\\ebjoy\\\\Desktop\\\\Homework06---Python-APIs\\\\api_keys.py'>\n",
      "HTTP Error 401: Unauthorized\n",
      "Processing Record 18 of Set 0 | rikitea\n",
      "http://api.openweathermap.org/data/2.5/weather?q=rikitea&units=imperial&APPID=<module 'api_keys' from 'C:\\\\Users\\\\ebjoy\\\\Desktop\\\\Homework06---Python-APIs\\\\api_keys.py'>\n",
      "HTTP Error 401: Unauthorized\n",
      "Processing Record 19 of Set 0 | tembisa\n",
      "http://api.openweathermap.org/data/2.5/weather?q=tembisa&units=imperial&APPID=<module 'api_keys' from 'C:\\\\Users\\\\ebjoy\\\\Desktop\\\\Homework06---Python-APIs\\\\api_keys.py'>\n",
      "HTTP Error 401: Unauthorized\n",
      "Processing Record 20 of Set 0 | jamestown\n",
      "http://api.openweathermap.org/data/2.5/weather?q=jamestown&units=imperial&APPID=<module 'api_keys' from 'C:\\\\Users\\\\ebjoy\\\\Desktop\\\\Homework06---Python-APIs\\\\api_keys.py'>\n",
      "HTTP Error 401: Unauthorized\n",
      "Processing Record 21 of Set 0 | mahebourg\n",
      "http://api.openweathermap.org/data/2.5/weather?q=mahebourg&units=imperial&APPID=<module 'api_keys' from 'C:\\\\Users\\\\ebjoy\\\\Desktop\\\\Homework06---Python-APIs\\\\api_keys.py'>\n",
      "HTTP Error 401: Unauthorized\n",
      "Processing Record 22 of Set 0 | hilo\n",
      "http://api.openweathermap.org/data/2.5/weather?q=hilo&units=imperial&APPID=<module 'api_keys' from 'C:\\\\Users\\\\ebjoy\\\\Desktop\\\\Homework06---Python-APIs\\\\api_keys.py'>\n",
      "HTTP Error 401: Unauthorized\n",
      "Processing Record 23 of Set 0 | new norfolk\n",
      "http://api.openweathermap.org/data/2.5/weather?q=new%20norfolk&units=imperial&APPID=<module 'api_keys' from 'C:\\\\Users\\\\ebjoy\\\\Desktop\\\\Homework06---Python-APIs\\\\api_keys.py'>\n",
      "HTTP Error 401: Unauthorized\n",
      "Processing Record 24 of Set 0 | sosua\n",
      "http://api.openweathermap.org/data/2.5/weather?q=sosua&units=imperial&APPID=<module 'api_keys' from 'C:\\\\Users\\\\ebjoy\\\\Desktop\\\\Homework06---Python-APIs\\\\api_keys.py'>\n",
      "HTTP Error 401: Unauthorized\n",
      "Processing Record 25 of Set 0 | surt\n",
      "http://api.openweathermap.org/data/2.5/weather?q=surt&units=imperial&APPID=<module 'api_keys' from 'C:\\\\Users\\\\ebjoy\\\\Desktop\\\\Homework06---Python-APIs\\\\api_keys.py'>\n",
      "HTTP Error 401: Unauthorized\n",
      "Processing Record 26 of Set 0 | barcelona\n",
      "http://api.openweathermap.org/data/2.5/weather?q=barcelona&units=imperial&APPID=<module 'api_keys' from 'C:\\\\Users\\\\ebjoy\\\\Desktop\\\\Homework06---Python-APIs\\\\api_keys.py'>\n",
      "HTTP Error 401: Unauthorized\n",
      "Processing Record 27 of Set 0 | yeppoon\n",
      "http://api.openweathermap.org/data/2.5/weather?q=yeppoon&units=imperial&APPID=<module 'api_keys' from 'C:\\\\Users\\\\ebjoy\\\\Desktop\\\\Homework06---Python-APIs\\\\api_keys.py'>\n",
      "HTTP Error 401: Unauthorized\n",
      "Processing Record 28 of Set 0 | hermanus\n",
      "http://api.openweathermap.org/data/2.5/weather?q=hermanus&units=imperial&APPID=<module 'api_keys' from 'C:\\\\Users\\\\ebjoy\\\\Desktop\\\\Homework06---Python-APIs\\\\api_keys.py'>\n",
      "HTTP Error 401: Unauthorized\n",
      "Processing Record 29 of Set 0 | albany\n",
      "http://api.openweathermap.org/data/2.5/weather?q=albany&units=imperial&APPID=<module 'api_keys' from 'C:\\\\Users\\\\ebjoy\\\\Desktop\\\\Homework06---Python-APIs\\\\api_keys.py'>\n",
      "HTTP Error 401: Unauthorized\n",
      "Processing Record 30 of Set 0 | los llanos de aridane\n",
      "http://api.openweathermap.org/data/2.5/weather?q=los%20llanos%20de%20aridane&units=imperial&APPID=<module 'api_keys' from 'C:\\\\Users\\\\ebjoy\\\\Desktop\\\\Homework06---Python-APIs\\\\api_keys.py'>\n",
      "HTTP Error 401: Unauthorized\n",
      "Processing Record 31 of Set 0 | hithadhoo\n",
      "http://api.openweathermap.org/data/2.5/weather?q=hithadhoo&units=imperial&APPID=<module 'api_keys' from 'C:\\\\Users\\\\ebjoy\\\\Desktop\\\\Homework06---Python-APIs\\\\api_keys.py'>\n",
      "HTTP Error 401: Unauthorized\n",
      "Processing Record 32 of Set 0 | chokurdakh\n",
      "http://api.openweathermap.org/data/2.5/weather?q=chokurdakh&units=imperial&APPID=<module 'api_keys' from 'C:\\\\Users\\\\ebjoy\\\\Desktop\\\\Homework06---Python-APIs\\\\api_keys.py'>\n",
      "HTTP Error 401: Unauthorized\n",
      "Processing Record 33 of Set 0 | barrow\n",
      "http://api.openweathermap.org/data/2.5/weather?q=barrow&units=imperial&APPID=<module 'api_keys' from 'C:\\\\Users\\\\ebjoy\\\\Desktop\\\\Homework06---Python-APIs\\\\api_keys.py'>\n",
      "HTTP Error 401: Unauthorized\n",
      "Processing Record 34 of Set 0 | lopatino\n",
      "http://api.openweathermap.org/data/2.5/weather?q=lopatino&units=imperial&APPID=<module 'api_keys' from 'C:\\\\Users\\\\ebjoy\\\\Desktop\\\\Homework06---Python-APIs\\\\api_keys.py'>\n",
      "HTTP Error 401: Unauthorized\n",
      "Processing Record 35 of Set 0 | busselton\n",
      "http://api.openweathermap.org/data/2.5/weather?q=busselton&units=imperial&APPID=<module 'api_keys' from 'C:\\\\Users\\\\ebjoy\\\\Desktop\\\\Homework06---Python-APIs\\\\api_keys.py'>\n",
      "HTTP Error 401: Unauthorized\n"
     ]
    },
    {
     "name": "stdout",
     "output_type": "stream",
     "text": [
      "Processing Record 36 of Set 0 | harper\n",
      "http://api.openweathermap.org/data/2.5/weather?q=harper&units=imperial&APPID=<module 'api_keys' from 'C:\\\\Users\\\\ebjoy\\\\Desktop\\\\Homework06---Python-APIs\\\\api_keys.py'>\n",
      "HTTP Error 401: Unauthorized\n",
      "Processing Record 37 of Set 0 | port alfred\n",
      "http://api.openweathermap.org/data/2.5/weather?q=port%20alfred&units=imperial&APPID=<module 'api_keys' from 'C:\\\\Users\\\\ebjoy\\\\Desktop\\\\Homework06---Python-APIs\\\\api_keys.py'>\n",
      "HTTP Error 401: Unauthorized\n",
      "Processing Record 38 of Set 0 | bluff\n",
      "http://api.openweathermap.org/data/2.5/weather?q=bluff&units=imperial&APPID=<module 'api_keys' from 'C:\\\\Users\\\\ebjoy\\\\Desktop\\\\Homework06---Python-APIs\\\\api_keys.py'>\n",
      "HTTP Error 401: Unauthorized\n",
      "Processing Record 39 of Set 0 | turochak\n",
      "http://api.openweathermap.org/data/2.5/weather?q=turochak&units=imperial&APPID=<module 'api_keys' from 'C:\\\\Users\\\\ebjoy\\\\Desktop\\\\Homework06---Python-APIs\\\\api_keys.py'>\n",
      "HTTP Error 401: Unauthorized\n",
      "Processing Record 40 of Set 0 | utiroa\n",
      "http://api.openweathermap.org/data/2.5/weather?q=utiroa&units=imperial&APPID=<module 'api_keys' from 'C:\\\\Users\\\\ebjoy\\\\Desktop\\\\Homework06---Python-APIs\\\\api_keys.py'>\n",
      "HTTP Error 401: Unauthorized\n",
      "Processing Record 41 of Set 0 | sahrak\n",
      "http://api.openweathermap.org/data/2.5/weather?q=sahrak&units=imperial&APPID=<module 'api_keys' from 'C:\\\\Users\\\\ebjoy\\\\Desktop\\\\Homework06---Python-APIs\\\\api_keys.py'>\n",
      "HTTP Error 401: Unauthorized\n",
      "Processing Record 42 of Set 0 | port blair\n",
      "http://api.openweathermap.org/data/2.5/weather?q=port%20blair&units=imperial&APPID=<module 'api_keys' from 'C:\\\\Users\\\\ebjoy\\\\Desktop\\\\Homework06---Python-APIs\\\\api_keys.py'>\n",
      "HTTP Error 401: Unauthorized\n",
      "Processing Record 43 of Set 0 | istanbul\n",
      "http://api.openweathermap.org/data/2.5/weather?q=istanbul&units=imperial&APPID=<module 'api_keys' from 'C:\\\\Users\\\\ebjoy\\\\Desktop\\\\Homework06---Python-APIs\\\\api_keys.py'>\n",
      "HTTP Error 401: Unauthorized\n",
      "Processing Record 44 of Set 0 | louisbourg\n",
      "http://api.openweathermap.org/data/2.5/weather?q=louisbourg&units=imperial&APPID=<module 'api_keys' from 'C:\\\\Users\\\\ebjoy\\\\Desktop\\\\Homework06---Python-APIs\\\\api_keys.py'>\n",
      "HTTP Error 401: Unauthorized\n",
      "Processing Record 45 of Set 0 | laramie\n",
      "http://api.openweathermap.org/data/2.5/weather?q=laramie&units=imperial&APPID=<module 'api_keys' from 'C:\\\\Users\\\\ebjoy\\\\Desktop\\\\Homework06---Python-APIs\\\\api_keys.py'>\n",
      "HTTP Error 401: Unauthorized\n",
      "Processing Record 46 of Set 0 | san quintin\n",
      "http://api.openweathermap.org/data/2.5/weather?q=san%20quintin&units=imperial&APPID=<module 'api_keys' from 'C:\\\\Users\\\\ebjoy\\\\Desktop\\\\Homework06---Python-APIs\\\\api_keys.py'>\n",
      "HTTP Error 401: Unauthorized\n",
      "Processing Record 47 of Set 0 | vaini\n",
      "http://api.openweathermap.org/data/2.5/weather?q=vaini&units=imperial&APPID=<module 'api_keys' from 'C:\\\\Users\\\\ebjoy\\\\Desktop\\\\Homework06---Python-APIs\\\\api_keys.py'>\n",
      "HTTP Error 401: Unauthorized\n",
      "Processing Record 48 of Set 0 | stony plain\n",
      "http://api.openweathermap.org/data/2.5/weather?q=stony%20plain&units=imperial&APPID=<module 'api_keys' from 'C:\\\\Users\\\\ebjoy\\\\Desktop\\\\Homework06---Python-APIs\\\\api_keys.py'>\n",
      "HTTP Error 401: Unauthorized\n",
      "Processing Record 49 of Set 0 | codrington\n",
      "http://api.openweathermap.org/data/2.5/weather?q=codrington&units=imperial&APPID=<module 'api_keys' from 'C:\\\\Users\\\\ebjoy\\\\Desktop\\\\Homework06---Python-APIs\\\\api_keys.py'>\n",
      "HTTP Error 401: Unauthorized\n",
      "Processing Record 50 of Set 0 | punta arenas\n",
      "http://api.openweathermap.org/data/2.5/weather?q=punta%20arenas&units=imperial&APPID=<module 'api_keys' from 'C:\\\\Users\\\\ebjoy\\\\Desktop\\\\Homework06---Python-APIs\\\\api_keys.py'>\n",
      "HTTP Error 401: Unauthorized\n"
     ]
    }
   ],
   "source": [
    "count = 1 # counter to count the number of calls to API\n",
    "err = 0 # error count to record how many cities the API responds back with no data.\n",
    "sets = 0 # counter to count the number of call sets\n",
    "index = 0 # index for the data frame WeatherPy data frame\n",
    "\n",
    "#Get current time\n",
    "t0 =time.time()\n",
    "print(f'Beginning Data Retrieval \\n ........................')\n",
    "\n",
    "for city in cities:\n",
    "    try:\n",
    "        city1 = city.replace(\" \", \"%20\") # remove space in city name so the URL retrieved is not broken.\n",
    "        print(f'Processing Record {count} of Set {sets} | {city}' )\n",
    "        print(f'{owm.BASE_URL}weather?q={city1}&units=imperial&APPID={api_keys}')\n",
    "        city_stats = owm.get_current(city, **settings)\n",
    "        WeatherPy_df.set_value(index, \"City\", city_stats[\"name\"])\n",
    "        WeatherPy_df.set_value(index, \"Cloudiness\", city_stats(\"clouds.all\"))\n",
    "        WeatherPy_df.set_value(index, \"Country\", city_stats(\"sys.country\"))\n",
    "        WeatherPy_df.set_value(index, \"Date\", city_stats(\"dt\"))\n",
    "        WeatherPy_df.set_value(index, \"Max Temp\", city_stats(\"main.temp_max\"))\n",
    "        WeatherPy_df.set_value(index, \"Wind Speed\", city_stats(\"wind.speed\"))\n",
    "        WeatherPy_df.set_value(index, \"Lat\", city_stats(\"coord.lat\"))\n",
    "        WeatherPy_df.set_value(index, \"Lng\", city_stats(\"coord.lon\"))\n",
    "        WeatherPy_df.set_value(index, \"Humidity\", city_stats(\"main.humidity\"))\n",
    "        index = index +1 \n",
    "    except Exception as e:\n",
    "        print(e)\n",
    "        err= err+1\n",
    "    count = count+1\n",
    "    \n",
    "    if count == 51: # limit 50 API calls per minute\n",
    "        t1=time.time()\n",
    "        count = 1 \n",
    "        sets = sets+1\n",
    "        time.sleep(60-(t1-t0))\n",
    "        t0=time.time()\n",
    "\n",
    "print(\"end of stats loop\")\n",
    "print(f'Could not get data for {err} cities')"
   ]
  },
  {
   "cell_type": "markdown",
   "metadata": {},
   "source": [
    "### Convert Raw Data to DataFrame\n",
    "* Export the city data into a .csv.\n",
    "* Display the DataFrame"
   ]
  },
  {
   "cell_type": "code",
   "execution_count": null,
   "metadata": {},
   "outputs": [],
   "source": []
  },
  {
   "cell_type": "code",
   "execution_count": null,
   "metadata": {},
   "outputs": [],
   "source": []
  },
  {
   "cell_type": "markdown",
   "metadata": {},
   "source": [
    "### Plotting the Data\n",
    "* Use proper labeling of the plots using plot titles (including date of analysis) and axes labels.\n",
    "* Save the plotted figures as .pngs."
   ]
  },
  {
   "cell_type": "markdown",
   "metadata": {},
   "source": [
    "#### Latitude vs. Temperature Plot"
   ]
  },
  {
   "cell_type": "code",
   "execution_count": null,
   "metadata": {},
   "outputs": [],
   "source": []
  },
  {
   "cell_type": "markdown",
   "metadata": {},
   "source": [
    "#### Latitude vs. Humidity Plot"
   ]
  },
  {
   "cell_type": "code",
   "execution_count": null,
   "metadata": {},
   "outputs": [],
   "source": []
  },
  {
   "cell_type": "markdown",
   "metadata": {},
   "source": [
    "#### Latitude vs. Cloudiness Plot"
   ]
  },
  {
   "cell_type": "code",
   "execution_count": null,
   "metadata": {},
   "outputs": [],
   "source": []
  },
  {
   "cell_type": "markdown",
   "metadata": {},
   "source": [
    "#### Latitude vs. Wind Speed Plot"
   ]
  },
  {
   "cell_type": "code",
   "execution_count": null,
   "metadata": {},
   "outputs": [],
   "source": []
  },
  {
   "cell_type": "code",
   "execution_count": null,
   "metadata": {},
   "outputs": [],
   "source": []
  }
 ],
 "metadata": {
  "anaconda-cloud": {},
  "kernelspec": {
   "display_name": "Python 3",
   "language": "python",
   "name": "python3"
  },
  "language_info": {
   "codemirror_mode": {
    "name": "ipython",
    "version": 3
   },
   "file_extension": ".py",
   "mimetype": "text/x-python",
   "name": "python",
   "nbconvert_exporter": "python",
   "pygments_lexer": "ipython3",
   "version": "3.7.0"
  }
 },
 "nbformat": 4,
 "nbformat_minor": 2
}
